{
 "cells": [
  {
   "cell_type": "markdown",
   "metadata": {},
   "source": [
    "# Stability Rank Selection\n",
    "The methods in this notebook are alternative strategies for rank selection.\n",
    "We found bicrossvalidation to perform better (see `rank_analysis.html` for those results).\n",
    "\n",
    "These methods are based on making multiple decompositions from random initialisations and looking at how similar they are. \n",
    "As such, if you ran with a low `random_starts` parameter, these results will not be very robust.\n",
    "Typically we used `random_starts=100` which seems to be sufficient.\n",
    "\n",
    "Descriptions of the different criteria are available in the package documentation for `copehenetic_correlation`, `dispersion` and `signature_similarity` functions."
   ]
  },
  {
   "cell_type": "code",
   "execution_count": 1,
   "metadata": {},
   "outputs": [],
   "source": [
    "from cvanmf import denovo\n",
    "import plotnine as pn\n",
    "import pandas as pd"
   ]
  },
  {
   "cell_type": "code",
   "execution_count": null,
   "metadata": {},
   "outputs": [],
   "source": [
    "stability_values = pd.read_csv(\n",
    "    \"stability_rank_analysis.tsv\",\n",
    "    sep=\"\\t\",\n",
    "    index_col=\"rank\"\n",
    ")\n",
    "# Ensure sorted by rank\n",
    "stability_values = stability_values.sort_index(ascending=False)"
   ]
  },
  {
   "cell_type": "markdown",
   "metadata": {},
   "source": [
    "The dashed line inidicates the automatically selection suitable rank.\n",
    "In all three measures, a higher value is better.\n",
    "The automatic suggestion is not guaranteed to be the correct rank.\n",
    "\n",
    "To customise the plot below, open the notebook `stability_rank_analysis.ipynb` in Jupyter and edit using `plotnine` methods."
   ]
  },
  {
   "cell_type": "code",
   "execution_count": null,
   "metadata": {},
   "outputs": [],
   "source": [
    "fig = (\n",
    "    denovo.plot_stability_rank_selection(\n",
    "        series=[stability_values[c] for c in stability_values.columns]\n",
    "    ) \n",
    "    + pn.theme(figure_size=(10, 3))\n",
    "    + pn.guides(color=\"none\")\n",
    ")\n",
    "fig"
   ]
  }
 ],
 "metadata": {
  "kernelspec": {
   "display_name": "Python 3 (ipykernel)",
   "language": "python",
   "name": "python3"
  },
  "language_info": {
   "codemirror_mode": {
    "name": "ipython",
    "version": 3
   },
   "file_extension": ".py",
   "mimetype": "text/x-python",
   "name": "python",
   "nbconvert_exporter": "python",
   "pygments_lexer": "ipython3",
   "version": "3.12.5"
  }
 },
 "nbformat": 4,
 "nbformat_minor": 4
}
