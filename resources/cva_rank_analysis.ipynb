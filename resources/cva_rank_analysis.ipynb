{
 "cells": [
  {
   "cell_type": "markdown",
   "metadata": {},
   "source": [
    "# Bicrossvalidation Rank Selection\n",
    "Bicrossvalidation is the main method we suggest for rank selection.\n",
    "The method is based on holding out a block of the data, and reconstructing it using the remainder, and characterising how well it is reconstructed.\n",
    "\n",
    "The plots below show the values of two criteria at different rank.\n",
    "An elbow in the graph, where the increase in reconstruction quality slows, indicates a potentially suitable rank.\n",
    "We had implemented an automatic suggestion for where that elbow point is using [kneed](https://github.com/arvkevi/kneed), and indicated by a star, but it is worth inspecting the curves as sometimes a later elbow is clear."
   ]
  },
  {
   "cell_type": "code",
   "execution_count": null,
   "metadata": {},
   "outputs": [],
   "source": [
    "from cvanmf import denovo\n",
    "import pickle\n",
    "import plotnine as p9"
   ]
  },
  {
   "cell_type": "code",
   "execution_count": null,
   "metadata": {},
   "outputs": [],
   "source": [
    "# Output the results as a table as well\n",
    "with open(\"rank_combined.pickle\", \"rb\") as f:\n",
    "    rank_res = pickle.load(f)\n",
    "denovo.BicvResult.results_to_table(rank_res).to_csv('rank_analysis.tsv', sep=\"\\t\")"
   ]
  },
  {
   "cell_type": "markdown",
   "metadata": {},
   "source": [
    "To edit the figure below, open `rank_analysis.ipynb` in `jupyter` and edit using `plotnine` (`ggplot`-like) syntax"
   ]
  },
  {
   "cell_type": "code",
   "execution_count": null,
   "metadata": {},
   "outputs": [],
   "source": [
    "fig = (\n",
    "    denovo.plot_rank_selection(rank_res, jitter=False, n_col=2) \n",
    "    + p9.theme(figure_size=(9, 4))\n",
    ")\n",
    "fig"
   ]
  }
 ],
 "metadata": {
  "kernelspec": {
   "display_name": "Python 3 (ipykernel)",
   "language": "python",
   "name": "python3"
  },
  "language_info": {
   "codemirror_mode": {
    "name": "ipython",
    "version": 3
   },
   "file_extension": ".py",
   "mimetype": "text/x-python",
   "name": "python",
   "nbconvert_exporter": "python",
   "pygments_lexer": "ipython3",
   "version": "3.12.0"
  }
 },
 "nbformat": 4,
 "nbformat_minor": 4
}
