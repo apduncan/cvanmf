{
 "cells": [
  {
   "cell_type": "markdown",
   "metadata": {},
   "source": [
    "# NMF Model for Single Rank"
   ]
  },
  {
   "cell_type": "code",
   "execution_count": 14,
   "metadata": {},
   "outputs": [],
   "source": [
    "from cvanmf import denovo\n",
    "import pandas as pd\n",
    "import plotnine as pn\n",
    "import matplotlib.pyplot as plt\n",
    "\n",
    "# Ignore plotnine's default size limits, as for big decompositions\n",
    "# we will want some big plots\n",
    "from plotnine.options import set_option\n",
    "set_option(\"figure_format\", False)"
   ]
  },
  {
   "cell_type": "code",
   "execution_count": 4,
   "metadata": {
    "tags": [
     "parameters"
    ]
   },
   "outputs": [],
   "source": [
    "# Parameters for decomposition generation\n",
    "# All left None unless provided, so use cvanmf defaults\n",
    "model = \"../output/4/model\""
   ]
  },
  {
   "cell_type": "code",
   "execution_count": 5,
   "metadata": {},
   "outputs": [],
   "source": [
    "# Load the model\n",
    "top_model = denovo.Decomposition.load(model)"
   ]
  },
  {
   "cell_type": "code",
   "execution_count": 6,
   "metadata": {},
   "outputs": [],
   "source": [
    "# Some utility constants for sizing plots etc.\n",
    "\n",
    "# for plot_modelfit_point\n",
    "# The number of samples that will be represent in one inch of horizontal space\n",
    "PLOT_MODELFIT_PPI = 20\n",
    "# Maximum width allowed for plot\n",
    "PLOT_MODELFIT_MAX_WIDTH = 20\n",
    "\n",
    "# Limit on number of samples to plot for large studies\n",
    "MAX_SAMPLES_PER_PLOT = 250"
   ]
  },
  {
   "cell_type": "markdown",
   "metadata": {},
   "source": [
    "To edit or do further analysis on the model shown in this notebook, open it in Jupyter Lab or Notebook."
   ]
  },
  {
   "cell_type": "markdown",
   "metadata": {},
   "source": [
    "## Parameters\n"
   ]
  },
  {
   "cell_type": "code",
   "execution_count": null,
   "metadata": {},
   "outputs": [],
   "source": [
    "# Print the parameters, except the input matrix\n",
    "{k:v for k,v in top_model.parameters._asdict().items() if k != 'x'}"
   ]
  },
  {
   "cell_type": "markdown",
   "metadata": {},
   "source": [
    "## Note on decompositions with many samples\n",
    "The methods contained in these notebooks can be very slow when plotting \n",
    "many samples. As such, we slice the decomposition to contain only 250 samples.\n",
    "You can manually select other subsets to plot, or generate complete plots as you\n",
    "see fit. For very large studies, you may need to find other methods of \n",
    "visualisation."
   ]
  },
  {
   "cell_type": "code",
   "execution_count": 8,
   "metadata": {},
   "outputs": [],
   "source": [
    "sliced_model = top_model[:min(MAX_SAMPLES_PER_PLOT, top_model.h.shape[1]), :, :]"
   ]
  },
  {
   "cell_type": "markdown",
   "metadata": {},
   "source": [
    "## Model Fit\n",
    "We can measure how well the decomposition represents each sample, which we refer to as model fit.\n",
    "This is calculated as the cosine similarity between the input values for a sample, and the reconstruced values (those in $WH$).\n",
    "Cosine similarity for non-negative vectors falls between 0 (no relationship) and 1 (perfectly correlated).\n",
    "A low median model fit indicates a poor model, however what is a poor median model fit will vary by field; however for genus level microbiome data  $<0.7$ seems an achievable median model fit.\n",
    "\n",
    "Some samples having poor model fit is not neccesarily a disqualifying factor, depending on your use case.\n",
    "Those samples may be in an unusual state for some reason (such as clinical factors), or represent interesting unusual deviations from a typical state.\n",
    "\n",
    "### Distribution of Model Fit\n",
    "Below is a histogram of the model fit across all samples, with a vertical line indicating median."
   ]
  },
  {
   "cell_type": "code",
   "execution_count": null,
   "metadata": {},
   "outputs": [],
   "source": [
    "top_model.plot_modelfit() + pn.theme(figure_size=(6,4)) + pn.ggtitle(\"Distribution of Model Fit\")"
   ]
  },
  {
   "cell_type": "markdown",
   "metadata": {},
   "source": [
    "### Model Fit Per Sample\n",
    "Below, the model fit is shown for each sample as a dot. Those below a threshold value are shown in red.\n",
    "This threshold was determined for our Enterosignatures model, and may not be suitable for other data.\n",
    "To use a different value, set the `threshold` parameter in `plot_modelfit_point()`."
   ]
  },
  {
   "cell_type": "code",
   "execution_count": null,
   "metadata": {},
   "outputs": [],
   "source": [
    "# Make the plot wider when there are more samples\n",
    "modelfit_point_width = min((sliced_model.h.shape[1] / PLOT_MODELFIT_PPI) + 1, PLOT_MODELFIT_MAX_WIDTH)\n",
    "# Customise width and text \n",
    "(\n",
    "    sliced_model.plot_modelfit_point() + \n",
    "    pn.theme(\n",
    "        figure_size=(modelfit_point_width, 2), \n",
    "        axis_text_x=pn.element_text(size=7)\n",
    "    ) +\n",
    "    pn.ggtitle(\"Model Fit\")\n",
    ")"
   ]
  },
  {
   "cell_type": "markdown",
   "metadata": {},
   "source": [
    "# Feature Weights\n",
    "Looking at the feature weights in each signature can help interpret the meaning of each signature.\n",
    "Here we should the relative weight of features in each signature, meaning that the values in each signature are scaled to sum to 1.\n",
    "The plot shows any features whose weight make up at least 4% of the total in the signature, this can be changed using the `threshold` parameter in `plot_feature_weight`.\n",
    "Feature labels are trimmed by default to a maximum of 40 characters, but you can define some other method of truncating, or none using `label_fn`."
   ]
  },
  {
   "cell_type": "code",
   "execution_count": null,
   "metadata": {},
   "outputs": [],
   "source": [
    "def truncate_name(x):\n",
    "    if len(x) <= 40:\n",
    "        return x\n",
    "    return x[0:29] + \"...\" + x[-18:]\n",
    "# Allow 1 inch per signature\n",
    "feature_weight_width = top_model.w.shape[1] + 3\n",
    "(\n",
    "    top_model.plot_feature_weight(\n",
    "        label_fn=truncate_name\n",
    "    ) + \n",
    "    pn.theme(figure_size=(feature_weight_width, 6)) +\n",
    "    pn.ggtitle(\"Relative Signature Weight\")\n",
    ")"
   ]
  },
  {
   "cell_type": "markdown",
   "metadata": {},
   "source": [
    "# PCoA\n",
    "Here PCoA is performed on the scaled signature weight matrix. For low rank models, this often doesn't show much, however it is more useful at higher ranks.\n",
    "PCoA is carried out using Bray-Curtis dissimilarity, but can be customised - see documentation for `pcoa` and `plot_pcoa` methods of `Decomposition`.\n",
    "This plot is often most useful when combined with metadata - you can use the `color` and `shape` arguments to provide categorical metadata to determine the shape and colour of points."
   ]
  },
  {
   "cell_type": "code",
   "execution_count": null,
   "metadata": {},
   "outputs": [],
   "source": [
    "(\n",
    "    sliced_model.plot_pcoa() +\n",
    "    pn.ggtitle(\"PCoA on Relative Signature Weight\")\n",
    ")"
   ]
  },
  {
   "cell_type": "markdown",
   "metadata": {},
   "source": [
    "### Relative Weight Plot\n",
    "This represents the weight of each signature in each sample, with the weights in each sample scaled so that they sum to 1.\n",
    "We also append the model fit point plot to the top.\n",
    "This is the only figure which is not returned a `plotnine.ggplot` object, so we have to define widths etc in the call.\n",
    "This plot can be quite expensive to produce when there are a lot of signatures or samples. "
   ]
  },
  {
   "cell_type": "code",
   "execution_count": null,
   "metadata": {},
   "outputs": [],
   "source": [
    "legend_cols = (sliced_model.w.shape[1] // 6) + 1\n",
    "sliced_model.plot_relative_weight(\n",
    "    heights=[0.3, 0.7, 0.3], width=modelfit_point_width, point_size=.4,\n",
    "    legend_cols_v=legend_cols,\n",
    ").render()\n",
    "plt.show()"
   ]
  },
  {
   "cell_type": "markdown",
   "metadata": {},
   "source": [
    "# Additional analyses available\n",
    "\n",
    "## Against metadata\n",
    "Methods are provided to plot signatures against metadata, as well as some simple statistical tests.\n",
    "* `plot_metadata` takes a dataframe of metadata for each sample, and makes box plots for categorical and scatter plots for continuous medata. For categorical metadata, nonparametric statistical tests will be carried out.\n",
    "* `univariate_tests` carries out either Mann-Whitney U tests or Kruskal-Wallis tests against relative signature weights for a dataframe of categorical metadata.\n",
    "\n",
    "## Characterise samples\n",
    "* `representative_signatures` indicates which signatures are representative of sample, found by taking all those which sum up to 90% of the total weight in the sample (though this threshold can be specified)"
   ]
  },
  {
   "cell_type": "markdown",
   "metadata": {},
   "source": []
  }
 ],
 "metadata": {
  "kernelspec": {
   "display_name": "Python 3",
   "language": "python",
   "name": "python3"
  },
  "language_info": {
   "codemirror_mode": {
    "name": "ipython",
    "version": 3
   },
   "file_extension": ".py",
   "mimetype": "text/x-python",
   "name": "python",
   "nbconvert_exporter": "python",
   "pygments_lexer": "ipython3",
   "version": "3.12.5"
  }
 },
 "nbformat": 4,
 "nbformat_minor": 4
}
